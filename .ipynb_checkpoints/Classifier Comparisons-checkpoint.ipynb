{
 "cells": [
  {
   "cell_type": "code",
   "execution_count": 19,
   "metadata": {},
   "outputs": [],
   "source": [
    "\n",
    "import numpy as np\n",
    "import matplotlib.pyplot as plt\n",
    "from matplotlib.colors import ListedColormap\n",
    "from sklearn.model_selection import train_test_split\n",
    "from sklearn.preprocessing import StandardScaler\n",
    "from sklearn.datasets import make_moons, make_circles, make_classification\n",
    "from sklearn.neural_network import MLPClassifier\n",
    "from sklearn.neighbors import KNeighborsClassifier\n",
    "from sklearn.svm import SVC\n",
    "from sklearn.gaussian_process import GaussianProcessClassifier\n",
    "from sklearn.gaussian_process.kernels import RBF\n",
    "from sklearn.tree import DecisionTreeClassifier\n",
    "from sklearn.ensemble import RandomForestClassifier, AdaBoostClassifier\n",
    "from sklearn.naive_bayes import GaussianNB\n",
    "from sklearn.discriminant_analysis import QuadraticDiscriminantAnalysis\n",
    "from time import time\n",
    "import pickle\n",
    "from sklearn.metrics import confusion_matrix\n",
    "import seaborn as sb\n",
    "sb.set()\n",
    "h = 0.02  # step size in the mesh\n",
    "\n",
    "names = [\n",
    "    \"Nearest Neighbors\",\n",
    "    \"Linear SVM\",\n",
    "    \"RBF SVM\",\n",
    "    \"Gaussian Process\",\n",
    "    \"Decision Tree\",\n",
    "    \"Random Forest\",\n",
    "    \"Neural Net\",\n",
    "    \"AdaBoost\",\n",
    "    \"Naive Bayes\",\n",
    "    \"QDA\",\n",
    "]\n",
    "\n",
    "classifiers = [\n",
    "    KNeighborsClassifier(3),\n",
    "    SVC(kernel=\"linear\", C=0.025),\n",
    "    SVC(gamma=2, C=1),\n",
    "    GaussianProcessClassifier(1.0 * RBF(1.0)),\n",
    "    DecisionTreeClassifier(max_depth=10),\n",
    "    RandomForestClassifier(max_depth=10, n_estimators=10, max_features=1),\n",
    "    MLPClassifier(alpha=1, max_iter=1000),\n",
    "    AdaBoostClassifier(),\n",
    "    GaussianNB(),\n",
    "    QuadraticDiscriminantAnalysis(),\n",
    "]\n"
   ]
  },
  {
   "cell_type": "code",
   "execution_count": null,
   "metadata": {},
   "outputs": [],
   "source": [
    "seed = 1337\n",
    "layer = \"all\"\n",
    "np.random.seed(seed)\n",
    "n_hl = 12\n",
    "hidden_dim = 768"
   ]
  },
  {
   "cell_type": "code",
   "execution_count": null,
   "metadata": {},
   "outputs": [],
   "source": [
    "def get_inputs(filename, layer):\n",
    "    \"\"\"Read data from pkl file and prepare for training.\"\"\"\n",
    "    file = open(filename + \".pkl\", \"rb\")\n",
    "    data = pickle.load(file)\n",
    "    author_ids, data_x, data_y = list(zip(*data))\n",
    "    file.close()\n",
    "\n",
    "    # alphaW is responsible for which BERT layer embedding we will be using\n",
    "    if layer == \"all\":\n",
    "        alphaW = np.full([n_hl], 1 / n_hl)\n",
    "\n",
    "    else:\n",
    "        alphaW = np.zeros([n_hl])\n",
    "        alphaW[int(layer) - 1] = 1\n",
    "\n",
    "    # just changing the way data is stored (tuples of minibatches) and\n",
    "    # getting the output for the required layer of BERT using alphaW\n",
    "    inputs = []\n",
    "    targets = []\n",
    "    n_batches = len(data_y)\n",
    "    print(\"n_batches:\", n_batches)\n",
    "    for ii in range(n_batches):\n",
    "        extra_inputs = np.einsum(\"k,kij->ij\", alphaW, data_x[ii])\n",
    "        extra_targets = data_y[ii]\n",
    "        if len(extra_inputs) == len(extra_targets):\n",
    "            inputs.extend(extra_inputs)\n",
    "            targets.extend(data_y[ii])\n",
    "        else:\n",
    "            print(\"skipped a batch\")\n",
    "        \n",
    "    inputs = np.array(inputs)\n",
    "    full_targets = np.array(targets)\n",
    "\n",
    "    return inputs, full_targets"
   ]
  },
  {
   "cell_type": "code",
   "execution_count": 32,
   "metadata": {},
   "outputs": [
    {
     "name": "stdout",
     "output_type": "stream",
     "text": [
      "n_batches: 4105\n"
     ]
    }
   ],
   "source": [
    "filename = \"embeddings/reddit-albert-base-mean-130k_cleaned\"\n",
    "# filename = \"embeddings/reddit-albert-base-mean-12k_cleaned\"\n",
    "# filename = \"embeddings/reddit-albert-base-mean-5k_cleaned\"\n",
    "data_x, data_y = get_inputs(filename, layer)\n",
    "\n",
    "#maybe do this\n",
    "data_x = StandardScaler().fit_transform(data_x)\n",
    "x_train, x_test, real_y_train, real_y_test = train_test_split(data_x, data_y, test_size = 0.2)"
   ]
  },
  {
   "cell_type": "code",
   "execution_count": 33,
   "metadata": {},
   "outputs": [],
   "source": [
    "labels = [\"Extraversion (E) vs Introversion (I)\", \"Intuition (N) vs Sensing (S)\", \"Feeling (F) vs Thinking (T)\", \"Judging (J) vs Perceiving (P)\" ]\n",
    "#iterate through indexes from 0 to 4\n",
    "idx = 0\n",
    "y_train = real_y_train[:, idx]\n",
    "y_test = real_y_test[:, idx]"
   ]
  },
  {
   "cell_type": "code",
   "execution_count": 34,
   "metadata": {},
   "outputs": [],
   "source": [
    "x_min, x_max = np.min(data_x) - 0.5, np.max(data_x) + 0.5\n",
    "y_min, y_max = np.min(data_y) - 0.5, np.max(data_y) + 0.5\n",
    "xx, yy = np.meshgrid(np.arange(x_min, x_max, h), np.arange(y_min, y_max, h))"
   ]
  },
  {
   "cell_type": "code",
   "execution_count": 24,
   "metadata": {},
   "outputs": [
    {
     "name": "stdout",
     "output_type": "stream",
     "text": [
      "Trying out: Nearest Neighbors\n",
      "Labelling: Extraversion (E) vs Introversion (I)\n",
      "\n",
      "Classification Accuracy:\t 0.5169902912621359\n",
      "F1 score: 0.4844559585492228\n",
      "Precision: 0.4815450643776824\n",
      "Recall: 0.48740225890529976\n",
      "Accuracy: 0.5169902912621359\n",
      "Took 89 seconds\n",
      "\n",
      "\n"
     ]
    },
    {
     "data": {
      "image/png": "[encoded data removed]",
      "text/plain": [
       "<Figure size 1944x648 with 2 Axes>"
      ]
     },
     "metadata": {},
     "output_type": "display_data"
    }
   ],
   "source": [
    "figure = plt.figure(figsize=(27, 9))\n",
    "i = 1\n",
    "\n",
    "# iterate over classifiers\n",
    "name = names[i-1]\n",
    "clf = classifiers[i-1]\n",
    "print(f\"Trying out: {name}\")\n",
    "print(f\"Labelling: {labels[idx]}\\n\")\n",
    "ax = plt.subplot(2, 5, 1)\n",
    "start = time()\n",
    "\n",
    "clf.fit(x_train, y_train)\n",
    "score = clf.score(x_test, y_test)\n",
    "y_pred = clf.predict(x_test)\n",
    "\n",
    "# Check the Goodness of Fit (on Test Data)\n",
    "print(\"Classification Accuracy:\\t\", clf.score(x_test, y_test))\n",
    "\n",
    "\n",
    "conf_matrix = confusion_matrix(y_test, y_pred)\n",
    "\n",
    "tn, fp = conf_matrix[0]\n",
    "fn, tp = conf_matrix[1]\n",
    "\n",
    "#Precision = TruePositives / (TruePositives + FalsePositives)\n",
    "precision = tp / (tp + fp)\n",
    "recall = tp / (tp+fn)\n",
    "accuracy = (tp + tn) / (tp+tn+fp+fn)\n",
    "f1 = (2 * (precision * recall)) / (precision + recall)\n",
    "print(f\"F1 score: {f1}\")\n",
    "print(f\"Precision: {precision}\")\n",
    "print(f\"Recall: {recall}\")\n",
    "print(f\"Accuracy: {accuracy}\")\n",
    "print(f\"Took {int(time() - start)} seconds\\n\")\n",
    "print()\n",
    "hm = sb.heatmap(confusion_matrix(y_test, y_pred), annot = True, fmt=\".0f\", annot_kws={\"size\": 18})"
   ]
  },
  {
   "cell_type": "code",
   "execution_count": 25,
   "metadata": {},
   "outputs": [
    {
     "name": "stdout",
     "output_type": "stream",
     "text": [
      "Trying out: Linear SVM\n",
      "Labelling: Extraversion (E) vs Introversion (I)\n",
      "\n",
      "Classification Accuracy:\t 0.5372168284789643\n",
      "F1 score: 0.4674115456238361\n",
      "Precision: 0.5035105315947843\n",
      "Recall: 0.43614248479582973\n",
      "Accuracy: 0.5372168284789643\n",
      "Took 254 seconds\n",
      "\n",
      "\n"
     ]
    },
    {
     "data": {
      "image/png": "[encoded data removed]",
      "text/plain": [
       "<Figure size 1944x648 with 2 Axes>"
      ]
     },
     "metadata": {},
     "output_type": "display_data"
    }
   ],
   "source": [
    "figure = plt.figure(figsize=(27, 9))\n",
    "i = 2\n",
    "\n",
    "# iterate over classifiers\n",
    "name = names[i-1]\n",
    "clf = classifiers[i-1]\n",
    "print(f\"Trying out: {name}\")\n",
    "print(f\"Labelling: {labels[idx]}\\n\")\n",
    "ax = plt.subplot(2, 5, 1)\n",
    "start = time()\n",
    "\n",
    "clf.fit(x_train, y_train)\n",
    "score = clf.score(x_test, y_test)\n",
    "y_pred = clf.predict(x_test)\n",
    "\n",
    "# Check the Goodness of Fit (on Test Data)\n",
    "print(\"Classification Accuracy:\\t\", clf.score(x_test, y_test))\n",
    "\n",
    "\n",
    "conf_matrix = confusion_matrix(y_test, y_pred)\n",
    "\n",
    "tn, fp = conf_matrix[0]\n",
    "fn, tp = conf_matrix[1]\n",
    "\n",
    "#Precision = TruePositives / (TruePositives + FalsePositives)\n",
    "precision = tp / (tp + fp)\n",
    "recall = tp / (tp+fn)\n",
    "accuracy = (tp + tn) / (tp+tn+fp+fn)\n",
    "f1 = (2 * (precision * recall)) / (precision + recall)\n",
    "print(f\"F1 score: {f1}\")\n",
    "print(f\"Precision: {precision}\")\n",
    "print(f\"Recall: {recall}\")\n",
    "print(f\"Accuracy: {accuracy}\")\n",
    "print(f\"Took {int(time() - start)} seconds\\n\")\n",
    "print()\n",
    "hm = sb.heatmap(confusion_matrix(y_test, y_pred), annot = True, fmt=\".0f\", annot_kws={\"size\": 18})"
   ]
  },
  {
   "cell_type": "code",
   "execution_count": 26,
   "metadata": {},
   "outputs": [
    {
     "name": "stdout",
     "output_type": "stream",
     "text": [
      "Trying out: RBF SVM\n",
      "Labelling: Extraversion (E) vs Introversion (I)\n",
      "\n",
      "Classification Accuracy:\t 0.558252427184466\n",
      "F1 score: 0.10049423393739704\n",
      "Precision: 0.9682539682539683\n",
      "Recall: 0.052997393570807995\n",
      "Accuracy: 0.558252427184466\n",
      "Took 272 seconds\n",
      "\n",
      "\n"
     ]
    },
    {
     "data": {
      "image/png": "[encoded data removed]",
      "text/plain": [
       "<Figure size 1944x648 with 2 Axes>"
      ]
     },
     "metadata": {},
     "output_type": "display_data"
    }
   ],
   "source": [
    "figure = plt.figure(figsize=(27, 9))\n",
    "i = 3\n",
    "\n",
    "# iterate over classifiers\n",
    "name = names[i-1]\n",
    "clf = classifiers[i-1]\n",
    "print(f\"Trying out: {name}\")\n",
    "print(f\"Labelling: {labels[idx]}\\n\")\n",
    "ax = plt.subplot(2, 5, 1)\n",
    "start = time()\n",
    "\n",
    "clf.fit(x_train, y_train)\n",
    "score = clf.score(x_test, y_test)\n",
    "y_pred = clf.predict(x_test)\n",
    "\n",
    "# Check the Goodness of Fit (on Test Data)\n",
    "print(\"Classification Accuracy:\\t\", clf.score(x_test, y_test))\n",
    "\n",
    "\n",
    "conf_matrix = confusion_matrix(y_test, y_pred)\n",
    "\n",
    "tn, fp = conf_matrix[0]\n",
    "fn, tp = conf_matrix[1]\n",
    "\n",
    "#Precision = TruePositives / (TruePositives + FalsePositives)\n",
    "precision = tp / (tp + fp)\n",
    "recall = tp / (tp+fn)\n",
    "accuracy = (tp + tn) / (tp+tn+fp+fn)\n",
    "f1 = (2 * (precision * recall)) / (precision + recall)\n",
    "print(f\"F1 score: {f1}\")\n",
    "print(f\"Precision: {precision}\")\n",
    "print(f\"Recall: {recall}\")\n",
    "print(f\"Accuracy: {accuracy}\")\n",
    "print(f\"Took {int(time() - start)} seconds\\n\")\n",
    "print()\n",
    "hm = sb.heatmap(confusion_matrix(y_test, y_pred), annot = True, fmt=\".0f\", annot_kws={\"size\": 18})"
   ]
  },
  {
   "cell_type": "code",
   "execution_count": null,
   "metadata": {},
   "outputs": [
    {
     "name": "stdout",
     "output_type": "stream",
     "text": [
      "Trying out: Gaussian Process\n",
      "Labelling: Judging (J) vs Perceiving (P)\n",
      "\n"
     ]
    }
   ],
   "source": [
    "figure = plt.figure(figsize=(27, 9))\n",
    "i = 4\n",
    "\n",
    "# iterate over classifiers\n",
    "name = names[i-1]\n",
    "clf = classifiers[i-1]\n",
    "print(f\"Trying out: {name}\")\n",
    "print(f\"Labelling: {labels[idx]}\\n\")\n",
    "ax = plt.subplot(2, 5, 1)\n",
    "start = time()\n",
    "\n",
    "clf.fit(x_train, y_train)\n",
    "score = clf.score(x_test, y_test)\n",
    "y_pred = clf.predict(x_test)\n",
    "\n",
    "# Check the Goodness of Fit (on Test Data)\n",
    "print(\"Classification Accuracy:\\t\", clf.score(x_test, y_test))\n",
    "\n",
    "\n",
    "conf_matrix = confusion_matrix(y_test, y_pred)\n",
    "\n",
    "tn, fp = conf_matrix[0]\n",
    "fn, tp = conf_matrix[1]\n",
    "\n",
    "#Precision = TruePositives / (TruePositives + FalsePositives)\n",
    "precision = tp / (tp + fp)\n",
    "recall = tp / (tp+fn)\n",
    "accuracy = (tp + tn) / (tp+tn+fp+fn)\n",
    "f1 = (2 * (precision * recall)) / (precision + recall)\n",
    "print(f\"F1 score: {f1}\")\n",
    "print(f\"Precision: {precision}\")\n",
    "print(f\"Recall: {recall}\")\n",
    "print(f\"Accuracy: {accuracy}\")\n",
    "print(f\"Took {int(time() - start)} seconds\\n\")\n",
    "print()\n",
    "hm = sb.heatmap(confusion_matrix(y_test, y_pred), annot = True, fmt=\".0f\", annot_kws={\"size\": 18})"
   ]
  },
  {
   "cell_type": "code",
   "execution_count": 27,
   "metadata": {},
   "outputs": [
    {
     "name": "stdout",
     "output_type": "stream",
     "text": [
      "Trying out: Decision Tree\n",
      "Labelling: Extraversion (E) vs Introversion (I)\n",
      "\n",
      "Classification Accuracy:\t 0.5153721682847896\n",
      "F1 score: 0.44330855018587356\n",
      "Precision: 0.47652347652347654\n",
      "Recall: 0.4144222415291051\n",
      "Accuracy: 0.5153721682847896\n",
      "Took 9 seconds\n",
      "\n",
      "\n"
     ]
    },
    {
     "data": {
      "image/png": "[encoded data removed]",
      "text/plain": [
       "<Figure size 1944x648 with 2 Axes>"
      ]
     },
     "metadata": {},
     "output_type": "display_data"
    }
   ],
   "source": [
    "figure = plt.figure(figsize=(27, 9))\n",
    "i = 5\n",
    "\n",
    "# iterate over classifiers\n",
    "name = names[i-1]\n",
    "clf = classifiers[i-1]\n",
    "print(f\"Trying out: {name}\")\n",
    "print(f\"Labelling: {labels[idx]}\\n\")\n",
    "ax = plt.subplot(2, 5, 1)\n",
    "start = time()\n",
    "\n",
    "clf.fit(x_train, y_train)\n",
    "score = clf.score(x_test, y_test)\n",
    "y_pred = clf.predict(x_test)\n",
    "\n",
    "# Check the Goodness of Fit (on Test Data)\n",
    "print(\"Classification Accuracy:\\t\", clf.score(x_test, y_test))\n",
    "\n",
    "\n",
    "conf_matrix = confusion_matrix(y_test, y_pred)\n",
    "\n",
    "tn, fp = conf_matrix[0]\n",
    "fn, tp = conf_matrix[1]\n",
    "\n",
    "#Precision = TruePositives / (TruePositives + FalsePositives)\n",
    "precision = tp / (tp + fp)\n",
    "recall = tp / (tp+fn)\n",
    "accuracy = (tp + tn) / (tp+tn+fp+fn)\n",
    "f1 = (2 * (precision * recall)) / (precision + recall)\n",
    "print(f\"F1 score: {f1}\")\n",
    "print(f\"Precision: {precision}\")\n",
    "print(f\"Recall: {recall}\")\n",
    "print(f\"Accuracy: {accuracy}\")\n",
    "print(f\"Took {int(time() - start)} seconds\\n\")\n",
    "print()\n",
    "hm = sb.heatmap(confusion_matrix(y_test, y_pred), annot = True, fmt=\".0f\", annot_kws={\"size\": 18})"
   ]
  },
  {
   "cell_type": "code",
   "execution_count": 28,
   "metadata": {},
   "outputs": [
    {
     "name": "stdout",
     "output_type": "stream",
     "text": [
      "Trying out: Random Forest\n",
      "Labelling: Extraversion (E) vs Introversion (I)\n",
      "\n",
      "Classification Accuracy:\t 0.5420711974110033\n",
      "F1 score: 0.4831050228310502\n",
      "Precision: 0.5091434071222329\n",
      "Recall: 0.4596003475238923\n",
      "Accuracy: 0.5420711974110033\n",
      "Took 0 seconds\n",
      "\n",
      "\n"
     ]
    },
    {
     "data": {
      "image/png": "[encoded data removed]",
      "text/plain": [
       "<Figure size 1944x648 with 2 Axes>"
      ]
     },
     "metadata": {},
     "output_type": "display_data"
    }
   ],
   "source": [
    "figure = plt.figure(figsize=(27, 9))\n",
    "i = 6\n",
    "\n",
    "# iterate over classifiers\n",
    "name = names[i-1]\n",
    "clf = classifiers[i-1]\n",
    "print(f\"Trying out: {name}\")\n",
    "print(f\"Labelling: {labels[idx]}\\n\")\n",
    "ax = plt.subplot(2, 5, 1)\n",
    "start = time()\n",
    "\n",
    "clf.fit(x_train, y_train)\n",
    "score = clf.score(x_test, y_test)\n",
    "y_pred = clf.predict(x_test)\n",
    "\n",
    "# Check the Goodness of Fit (on Test Data)\n",
    "print(\"Classification Accuracy:\\t\", clf.score(x_test, y_test))\n",
    "\n",
    "\n",
    "conf_matrix = confusion_matrix(y_test, y_pred)\n",
    "\n",
    "tn, fp = conf_matrix[0]\n",
    "fn, tp = conf_matrix[1]\n",
    "\n",
    "#Precision = TruePositives / (TruePositives + FalsePositives)\n",
    "try:\n",
    "    precision = tp / (tp + fp)\n",
    "except:\n",
    "    precision = 0\n",
    "try:\n",
    "    \n",
    "    recall = tp / (tp+fn)\n",
    "except:\n",
    "    recall = 0\n",
    "accuracy = (tp + tn) / (tp+tn+fp+fn)\n",
    "try:\n",
    "    f1 = (2 * (precision * recall)) / (precision + recall)\n",
    "    print(f\"F1 score: {f1}\")\n",
    "except:\n",
    "    print(f\"F1 score: not applicable\")\n",
    "print(f\"Precision: {precision}\")\n",
    "print(f\"Recall: {recall}\")\n",
    "print(f\"Accuracy: {accuracy}\")\n",
    "print(f\"Took {int(time() - start)} seconds\\n\")\n",
    "print()\n",
    "hm = sb.heatmap(confusion_matrix(y_test, y_pred), annot = True, fmt=\".0f\", annot_kws={\"size\": 18})"
   ]
  },
  {
   "cell_type": "code",
   "execution_count": 29,
   "metadata": {},
   "outputs": [
    {
     "name": "stdout",
     "output_type": "stream",
     "text": [
      "Trying out: Neural Net\n",
      "Labelling: Extraversion (E) vs Introversion (I)\n",
      "\n",
      "Classification Accuracy:\t 0.5303398058252428\n",
      "F1 score: 0.4997845756139595\n",
      "Precision: 0.49572649572649574\n",
      "Recall: 0.5039096437880104\n",
      "Accuracy: 0.5303398058252428\n",
      "Took 10 seconds\n",
      "\n",
      "\n"
     ]
    },
    {
     "data": {
      "image/png": "[encoded data removed]",
      "text/plain": [
       "<Figure size 1944x648 with 2 Axes>"
      ]
     },
     "metadata": {},
     "output_type": "display_data"
    }
   ],
   "source": [
    "figure = plt.figure(figsize=(27, 9))\n",
    "i = 7\n",
    "\n",
    "# iterate over classifiers\n",
    "name = names[i-1]\n",
    "clf = classifiers[i-1]\n",
    "print(f\"Trying out: {name}\")\n",
    "print(f\"Labelling: {labels[idx]}\\n\")\n",
    "ax = plt.subplot(2, 5, 1)\n",
    "start = time()\n",
    "\n",
    "clf.fit(x_train, y_train)\n",
    "score = clf.score(x_test, y_test)\n",
    "y_pred = clf.predict(x_test)\n",
    "\n",
    "# Check the Goodness of Fit (on Test Data)\n",
    "print(\"Classification Accuracy:\\t\", clf.score(x_test, y_test))\n",
    "\n",
    "\n",
    "conf_matrix = confusion_matrix(y_test, y_pred)\n",
    "\n",
    "tn, fp = conf_matrix[0]\n",
    "fn, tp = conf_matrix[1]\n",
    "\n",
    "#Precision = TruePositives / (TruePositives + FalsePositives)\n",
    "precision = tp / (tp + fp)\n",
    "recall = tp / (tp+fn)\n",
    "accuracy = (tp + tn) / (tp+tn+fp+fn)\n",
    "f1 = (2 * (precision * recall)) / (precision + recall)\n",
    "print(f\"F1 score: {f1}\")\n",
    "print(f\"Precision: {precision}\")\n",
    "print(f\"Recall: {recall}\")\n",
    "print(f\"Accuracy: {accuracy}\")\n",
    "print(f\"Took {int(time() - start)} seconds\\n\")\n",
    "print()\n",
    "hm = sb.heatmap(confusion_matrix(y_test, y_pred), annot = True, fmt=\".0f\", annot_kws={\"size\": 18})"
   ]
  },
  {
   "cell_type": "code",
   "execution_count": 30,
   "metadata": {},
   "outputs": [
    {
     "name": "stdout",
     "output_type": "stream",
     "text": [
      "Trying out: AdaBoost\n",
      "Labelling: Extraversion (E) vs Introversion (I)\n",
      "\n",
      "Classification Accuracy:\t 0.529126213592233\n",
      "F1 score: 0.4530075187969924\n",
      "Precision: 0.49334698055271237\n",
      "Recall: 0.41876629018245004\n",
      "Accuracy: 0.529126213592233\n",
      "Took 41 seconds\n",
      "\n",
      "\n"
     ]
    },
    {
     "data": {
      "image/png": "[encoded data removed]",
      "text/plain": [
       "<Figure size 1944x648 with 2 Axes>"
      ]
     },
     "metadata": {},
     "output_type": "display_data"
    }
   ],
   "source": [
    "figure = plt.figure(figsize=(27, 9))\n",
    "i = 8\n",
    "\n",
    "# iterate over classifiers\n",
    "name = names[i-1]\n",
    "clf = classifiers[i-1]\n",
    "print(f\"Trying out: {name}\")\n",
    "print(f\"Labelling: {labels[idx]}\\n\")\n",
    "ax = plt.subplot(2, 5, 1)\n",
    "start = time()\n",
    "\n",
    "clf.fit(x_train, y_train)\n",
    "score = clf.score(x_test, y_test)\n",
    "y_pred = clf.predict(x_test)\n",
    "\n",
    "# Check the Goodness of Fit (on Test Data)\n",
    "print(\"Classification Accuracy:\\t\", clf.score(x_test, y_test))\n",
    "\n",
    "\n",
    "conf_matrix = confusion_matrix(y_test, y_pred)\n",
    "\n",
    "tn, fp = conf_matrix[0]\n",
    "fn, tp = conf_matrix[1]\n",
    "\n",
    "#Precision = TruePositives / (TruePositives + FalsePositives)\n",
    "precision = tp / (tp + fp)\n",
    "recall = tp / (tp+fn)\n",
    "accuracy = (tp + tn) / (tp+tn+fp+fn)\n",
    "f1 = (2 * (precision * recall)) / (precision + recall)\n",
    "print(f\"F1 score: {f1}\")\n",
    "print(f\"Precision: {precision}\")\n",
    "print(f\"Recall: {recall}\")\n",
    "print(f\"Accuracy: {accuracy}\")\n",
    "print(f\"Took {int(time() - start)} seconds\\n\")\n",
    "print()\n",
    "hm = sb.heatmap(confusion_matrix(y_test, y_pred), annot = True, fmt=\".0f\", annot_kws={\"size\": 18})"
   ]
  },
  {
   "cell_type": "code",
   "execution_count": 31,
   "metadata": {},
   "outputs": [
    {
     "name": "stdout",
     "output_type": "stream",
     "text": [
      "Trying out: Naive Bayes\n",
      "Labelling: Extraversion (E) vs Introversion (I)\n",
      "\n",
      "Classification Accuracy:\t 0.5384304207119741\n",
      "F1 score: 0.49535603715170284\n",
      "Precision: 0.5045045045045045\n",
      "Recall: 0.48653344917463076\n",
      "Accuracy: 0.5384304207119741\n",
      "Took 0 seconds\n",
      "\n",
      "\n"
     ]
    },
    {
     "data": {
      "image/png": "[encoded data removed]",
      "text/plain": [
       "<Figure size 1944x648 with 2 Axes>"
      ]
     },
     "metadata": {},
     "output_type": "display_data"
    }
   ],
   "source": [
    "figure = plt.figure(figsize=(27, 9))\n",
    "i = 9\n",
    "\n",
    "# iterate over classifiers\n",
    "name = names[i-1]\n",
    "clf = classifiers[i-1]\n",
    "print(f\"Trying out: {name}\")\n",
    "print(f\"Labelling: {labels[idx]}\\n\")\n",
    "ax = plt.subplot(2, 5, 1)\n",
    "start = time()\n",
    "\n",
    "clf.fit(x_train, y_train)\n",
    "score = clf.score(x_test, y_test)\n",
    "y_pred = clf.predict(x_test)\n",
    "\n",
    "# Check the Goodness of Fit (on Test Data)\n",
    "print(\"Classification Accuracy:\\t\", clf.score(x_test, y_test))\n",
    "\n",
    "\n",
    "conf_matrix = confusion_matrix(y_test, y_pred)\n",
    "\n",
    "tn, fp = conf_matrix[0]\n",
    "fn, tp = conf_matrix[1]\n",
    "\n",
    "#Precision = TruePositives / (TruePositives + FalsePositives)\n",
    "precision = tp / (tp + fp)\n",
    "recall = tp / (tp+fn)\n",
    "accuracy = (tp + tn) / (tp+tn+fp+fn)\n",
    "f1 = (2 * (precision * recall)) / (precision + recall)\n",
    "print(f\"F1 score: {f1}\")\n",
    "print(f\"Precision: {precision}\")\n",
    "print(f\"Recall: {recall}\")\n",
    "print(f\"Accuracy: {accuracy}\")\n",
    "print(f\"Took {int(time() - start)} seconds\\n\")\n",
    "print()\n",
    "hm = sb.heatmap(confusion_matrix(y_test, y_pred), annot = True, fmt=\".0f\", annot_kws={\"size\": 18})"
   ]
  },
  {
   "cell_type": "code",
   "execution_count": null,
   "metadata": {},
   "outputs": [],
   "source": []
  }
 ],
 "metadata": {
  "kernelspec": {
   "display_name": "Python 3",
   "language": "python",
   "name": "python3"
  }
 },
 "nbformat": 4,
 "nbformat_minor": 4
}
